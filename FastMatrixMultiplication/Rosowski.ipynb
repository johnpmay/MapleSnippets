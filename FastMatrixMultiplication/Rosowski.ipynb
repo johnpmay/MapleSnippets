{
 "cells": [
  {
   "cell_type": "markdown",
   "metadata": {},
   "source": [
    " nxnxn Matrix Multiplication with communative entries and no divisions or additional integer multiplications\n",
    " \n",
    " This worksheet is the n even case\n",
    " \n",
    " from Rowsowki'20 https://arxiv.org/abs/1904.07683 (which includes the odd case)"
   ]
  },
  {
   "cell_type": "code",
   "execution_count": 1,
   "metadata": {},
   "outputs": [
    {
     "data": {
      "text/plain": [
       "                                    n := 4"
      ]
     },
     "metadata": {},
     "output_type": "display_data"
    }
   ],
   "source": [
    "n := 4;\n",
    "A := Matrix([seq([seq(cat(`a__`,i,`, `,j), j=1..n)],i=1..n)]):\n",
    "B := Matrix([seq([seq(cat(`b__`,i,`, `,j), j=1..n)],i=1..n)]):\n",
    "C := Matrix([seq([seq(c[i,j], j=1..n)],i=1..n)]):"
   ]
  },
  {
   "cell_type": "code",
   "execution_count": 2,
   "metadata": {},
   "outputs": [
    {
     "data": {
      "text/latex": [
       "$$\\left[\\begin{array}{c}\n",
       "p_{1} =a_{\\texttt{1, 1}} \\left(b_{\\texttt{1, 1}} +a_{\\texttt{1, 2}} \\right)+a_{\\texttt{1, 3}} \\left(b_{\\texttt{3, 1}} +a_{\\texttt{1, 4}} \\right) \n",
       "\\\\\n",
       " p_{2} =a_{\\texttt{2, 1}} \\left(b_{\\texttt{1, 1}} +a_{\\texttt{2, 2}} \\right)+a_{\\texttt{2, 3}} \\left(b_{\\texttt{3, 1}} +a_{\\texttt{2, 4}} \\right) \n",
       "\\\\\n",
       " p_{3} =a_{\\texttt{3, 1}} \\left(b_{\\texttt{1, 1}} +a_{\\texttt{3, 2}} \\right)+a_{\\texttt{3, 3}} \\left(b_{\\texttt{3, 1}} +a_{\\texttt{3, 4}} \\right) \n",
       "\\\\\n",
       " p_{4} =a_{\\texttt{4, 1}} \\left(b_{\\texttt{1, 1}} +a_{\\texttt{4, 2}} \\right)+a_{\\texttt{4, 3}} \\left(b_{\\texttt{3, 1}} +a_{\\texttt{4, 4}} \\right) \n",
       "\\\\\n",
       " q_{2} =b_{\\texttt{2, 2}} \\left(b_{\\texttt{1, 1}} +b_{\\texttt{1, 2}} \\right)+b_{\\texttt{4, 2}} \\left(b_{\\texttt{3, 1}} +b_{\\texttt{3, 2}} \\right) \n",
       "\\\\\n",
       " q_{3} =b_{\\texttt{2, 3}} \\left(b_{\\texttt{1, 1}} +b_{\\texttt{1, 3}} \\right)+b_{\\texttt{4, 3}} \\left(b_{\\texttt{3, 1}} +b_{\\texttt{3, 3}} \\right) \n",
       "\\\\\n",
       " q_{4} =b_{\\texttt{2, 4}} \\left(b_{\\texttt{1, 1}} +b_{\\texttt{1, 4}} \\right)+b_{\\texttt{4, 4}} \\left(b_{\\texttt{3, 1}} +b_{\\texttt{3, 4}} \\right) \n",
       "\\end{array}\\right]$$"
      ]
     },
     "execution_count": 2,
     "metadata": {},
     "output_type": "execute_result"
    }
   ],
   "source": [
    "slp1 := DEQueue():\n",
    "for i to n do # n^2/2 mults, n*(n-1) adds\n",
    "    push_back(slp1, `p__`||i = add( A[i,2*k-1]*(B[2*k-1,1]+A[i,2*k]), k=1..n/2));\n",
    "end do:\n",
    "\n",
    "for j from 2 to n do # (n-1)*n/2 mults, (n-1)*(n-1) adds\n",
    "    push_back(slp1, `q__`||j = add(B[2*k,j]*(B[2*k-1,1]+B[2*k-1,j]), k=1..n/2));\n",
    "end do:\n",
    "\n",
    "slp1 := convert(slp1, list):\n",
    "Vector(slp1);"
   ]
  },
  {
   "cell_type": "code",
   "execution_count": 3,
   "metadata": {},
   "outputs": [
    {
     "data": {
      "text/latex": [
       "$$\\left[\\begin{array}{c}\n",
       "c_{1,1}=p_{1} +a_{\\texttt{1, 2}} \\left(b_{\\texttt{2, 1}} -a_{\\texttt{1, 1}} \\right)+a_{\\texttt{1, 4}} \\left(b_{\\texttt{4, 1}} -a_{\\texttt{1, 3}} \\right) \n",
       "\\\\\n",
       " c_{2,1}=p_{2} +a_{\\texttt{2, 2}} \\left(b_{\\texttt{2, 1}} -a_{\\texttt{2, 1}} \\right)+a_{\\texttt{2, 4}} \\left(b_{\\texttt{4, 1}} -a_{\\texttt{2, 3}} \\right) \n",
       "\\\\\n",
       " c_{3,1}=p_{3} +a_{\\texttt{3, 2}} \\left(b_{\\texttt{2, 1}} -a_{\\texttt{3, 1}} \\right)+a_{\\texttt{3, 4}} \\left(b_{\\texttt{4, 1}} -a_{\\texttt{3, 3}} \\right) \n",
       "\\\\\n",
       " c_{4,1}=p_{4} +a_{\\texttt{4, 2}} \\left(b_{\\texttt{2, 1}} -a_{\\texttt{4, 1}} \\right)+a_{\\texttt{4, 4}} \\left(b_{\\texttt{4, 1}} -a_{\\texttt{4, 3}} \\right) \n",
       "\\\\\n",
       " c_{1,2}=\\left(a_{\\texttt{1, 1}} +b_{\\texttt{2, 2}} \\right) \\left(a_{\\texttt{1, 2}} +b_{\\texttt{1, 1}} +b_{\\texttt{1, 2}} \\right)+\\left(a_{\\texttt{1, 3}} +b_{\\texttt{4, 2}} \\right) \\left(a_{\\texttt{1, 4}} +b_{\\texttt{3, 1}} +b_{\\texttt{3, 2}} \\right)-p_{1} -q_{2}  \n",
       "\\\\\n",
       " c_{2,2}=\\left(a_{\\texttt{2, 1}} +b_{\\texttt{2, 2}} \\right) \\left(a_{\\texttt{2, 2}} +b_{\\texttt{1, 1}} +b_{\\texttt{1, 2}} \\right)+\\left(a_{\\texttt{2, 3}} +b_{\\texttt{4, 2}} \\right) \\left(a_{\\texttt{2, 4}} +b_{\\texttt{3, 1}} +b_{\\texttt{3, 2}} \\right)-p_{2} -q_{2}  \n",
       "\\\\\n",
       " c_{3,2}=\\left(a_{\\texttt{3, 1}} +b_{\\texttt{2, 2}} \\right) \\left(a_{\\texttt{3, 2}} +b_{\\texttt{1, 1}} +b_{\\texttt{1, 2}} \\right)+\\left(a_{\\texttt{3, 3}} +b_{\\texttt{4, 2}} \\right) \\left(a_{\\texttt{3, 4}} +b_{\\texttt{3, 1}} +b_{\\texttt{3, 2}} \\right)-p_{3} -q_{2}  \n",
       "\\\\\n",
       " c_{4,2}=\\left(a_{\\texttt{4, 1}} +b_{\\texttt{2, 2}} \\right) \\left(a_{\\texttt{4, 2}} +b_{\\texttt{1, 1}} +b_{\\texttt{1, 2}} \\right)+\\left(a_{\\texttt{4, 3}} +b_{\\texttt{4, 2}} \\right) \\left(a_{\\texttt{4, 4}} +b_{\\texttt{3, 1}} +b_{\\texttt{3, 2}} \\right)-p_{4} -q_{2}  \n",
       "\\\\\n",
       " c_{1,3}=\\left(a_{\\texttt{1, 1}} +b_{\\texttt{2, 3}} \\right) \\left(a_{\\texttt{1, 2}} +b_{\\texttt{1, 1}} +b_{\\texttt{1, 3}} \\right)+\\left(a_{\\texttt{1, 3}} +b_{\\texttt{4, 3}} \\right) \\left(a_{\\texttt{1, 4}} +b_{\\texttt{3, 1}} +b_{\\texttt{3, 3}} \\right)-p_{1} -q_{3}  \n",
       "\\\\\n",
       " c_{2,3}=\\left(a_{\\texttt{2, 1}} +b_{\\texttt{2, 3}} \\right) \\left(a_{\\texttt{2, 2}} +b_{\\texttt{1, 1}} +b_{\\texttt{1, 3}} \\right)+\\left(a_{\\texttt{2, 3}} +b_{\\texttt{4, 3}} \\right) \\left(a_{\\texttt{2, 4}} +b_{\\texttt{3, 1}} +b_{\\texttt{3, 3}} \\right)-p_{2} -q_{3}  \n",
       "\\\\\n",
       " \\text{``16 element Vector[column]''} \n",
       "\\end{array}\\right]$$"
      ]
     },
     "execution_count": 3,
     "metadata": {},
     "output_type": "execute_result"
    }
   ],
   "source": [
    "slp2 := DEQueue():\n",
    "for i to n do # n^2/2 mults, n^2 adds\n",
    "    push_back(slp2, c[i,1] = `p__`||i\n",
    "            + add(A[i,2*k]*(B[2*k,1]-A[i,2*k-1]),k=1..n/2) );\n",
    "end do:\n",
    "\n",
    "for j from 2 to n do # (n-1)*n*n/2 mults, n*(n-1)*(n/2*3+n/2-1+2)\n",
    "    for i to n do \n",
    "        push_back(slp2, c[i,j] = add( (A[i,2*k-1]+B[2*k,j])*(A[i,2*k]+B[2*k-1,1]+B[2*k-1,j]),k=1..n/2)\n",
    "                  - `p__`||i - `q__`||j)      \n",
    "    end do;\n",
    "end do:\n",
    "slp2 := convert(slp2,list):\n",
    "convert(slp2,Vector);"
   ]
  },
  {
   "cell_type": "code",
   "execution_count": 4,
   "metadata": {},
   "outputs": [
    {
     "data": {
      "text/markdown": [
       "$$145 \\mathit{additions} +46 \\mathit{multiplications}$$"
      ]
     },
     "execution_count": 4,
     "metadata": {},
     "output_type": "execute_result"
    }
   ],
   "source": [
    "codegen[cost](map(rhs,slp1))+codegen[cost](map(rhs,slp2));"
   ]
  },
  {
   "cell_type": "code",
   "execution_count": 5,
   "metadata": {},
   "outputs": [
    {
     "data": {
      "text/latex": [
       "$$\\left[\\begin{array}{cccc}\n",
       "0 & 0 & 0 & 0 \n",
       "\\\\\n",
       " 0 & 0 & 0 & 0 \n",
       "\\\\\n",
       " 0 & 0 & 0 & 0 \n",
       "\\\\\n",
       " 0 & 0 & 0 & 0 \n",
       "\\end{array}\\right]$$"
      ]
     },
     "execution_count": 5,
     "metadata": {},
     "output_type": "execute_result"
    }
   ],
   "source": [
    "expand(eval(eval(C,slp2), slp1)-A.B);"
   ]
  }
 ],
 "metadata": {
  "kernelspec": {
   "display_name": "Maple 2025",
   "language": "maple",
   "name": "maple"
  },
  "language_info": {
   "file_extension": ".mpl",
   "mimetype": "application/vnd.maple.mpl",
   "name": "maple",
   "version": "2024"
  }
 },
 "nbformat": 4,
 "nbformat_minor": 4
}
