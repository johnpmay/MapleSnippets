{
 "cells": [
  {
   "cell_type": "code",
   "execution_count": 1,
   "metadata": {},
   "outputs": [],
   "source": [
    "dims := (4,4,4):"
   ]
  },
  {
   "cell_type": "code",
   "execution_count": 2,
   "metadata": {},
   "outputs": [],
   "source": [
    "    A := Matrix(dims[1], dims[2], (i,j)->cat(`a__`,i,`,`,j)):\n",
    "    B := Matrix(dims[2], dims[3], (i,j)->cat(`b__`,i,`,`,j)):\n",
    "    C := Matrix(dims[1], dims[3], (i,j)->cat(`c__`,i,`,`,j)):"
   ]
  },
  {
   "cell_type": "markdown",
   "metadata": {},
   "source": [
    "The AlphaEvolve 4x4x4 tensor decomposition over C (u,v,w) \n",
    "\n",
    "converted into Maple exact syntax from https://colab.research.google.com/github/google-deepmind/alphaevolve_results/blob/master/mathematical_results.ipynb"
   ]
  },
  {
   "cell_type": "code",
   "execution_count": 3,
   "metadata": {},
   "outputs": [
    {
     "data": {
      "text/latex": [
       "$$\\left[\\begin{array}{ccccccccccc}\n",
       "\\frac{1}{2}+\\frac{\\mathrm{I}}{2} & \\frac{1}{2}+\\frac{\\mathrm{I}}{2} & 0 & -\\frac{\\mathrm{I}}{2} & \\frac{1}{2}+\\frac{\\mathrm{I}}{2} & 0 & \\frac{\\mathrm{I}}{2} & \\frac{1}{2}+\\frac{\\mathrm{I}}{2} & -\\frac{\\mathrm{I}}{2} & -\\frac{1}{2}+\\frac{\\mathrm{I}}{2} & \\mathit{...} \n",
       "\\\\\n",
       " \\frac{1}{2}+\\frac{\\mathrm{I}}{2} & 0 & -\\frac{1}{2} & -\\frac{1}{2} & -\\frac{1}{2}-\\frac{\\mathrm{I}}{2} & 0 & 0 & -\\frac{1}{2}-\\frac{\\mathrm{I}}{2} & -\\frac{\\mathrm{I}}{2} & 0 & \\mathit{...} \n",
       "\\\\\n",
       " 0 & 0 & \\frac{1}{2} & \\frac{1}{2} & 0 & \\frac{1}{2}-\\frac{\\mathrm{I}}{2} & 0 & 0 & -\\frac{1}{2} & 0 & \\mathit{...} \n",
       "\\\\\n",
       " 0 & -\\frac{1}{2}+\\frac{\\mathrm{I}}{2} & 0 & -\\frac{1}{2} & 0 & -\\frac{1}{2}-\\frac{\\mathrm{I}}{2} & \\frac{1}{2} & 0 & -\\frac{\\mathrm{I}}{2} & -\\frac{1}{2}-\\frac{\\mathrm{I}}{2} & \\mathit{...} \n",
       "\\\\\n",
       " \\frac{1}{2}-\\frac{\\mathrm{I}}{2} & \\frac{1}{2}+\\frac{\\mathrm{I}}{2} & 0 & \\frac{\\mathrm{I}}{2} & -\\frac{1}{2}+\\frac{\\mathrm{I}}{2} & 0 & -\\frac{1}{2} & -\\frac{1}{2}-\\frac{\\mathrm{I}}{2} & \\frac{1}{2} & \\frac{1}{2}+\\frac{\\mathrm{I}}{2} & \\mathit{...} \n",
       "\\\\\n",
       " \\frac{1}{2}-\\frac{\\mathrm{I}}{2} & 0 & -\\frac{\\mathrm{I}}{2} & -\\frac{1}{2} & \\frac{1}{2}-\\frac{\\mathrm{I}}{2} & 0 & 0 & \\frac{1}{2}+\\frac{\\mathrm{I}}{2} & \\frac{1}{2} & 0 & \\mathit{...} \n",
       "\\\\\n",
       " 0 & 0 & \\frac{\\mathrm{I}}{2} & \\frac{1}{2} & 0 & \\frac{1}{2}-\\frac{\\mathrm{I}}{2} & 0 & 0 & -\\frac{\\mathrm{I}}{2} & 0 & \\mathit{...} \n",
       "\\\\\n",
       " 0 & -\\frac{1}{2}+\\frac{\\mathrm{I}}{2} & 0 & \\frac{1}{2} & 0 & -\\frac{1}{2}-\\frac{\\mathrm{I}}{2} & \\frac{\\mathrm{I}}{2} & 0 & \\frac{1}{2} & -\\frac{1}{2}+\\frac{\\mathrm{I}}{2} & \\mathit{...} \n",
       "\\\\\n",
       " \\frac{1}{2}-\\frac{\\mathrm{I}}{2} & -\\frac{1}{2}-\\frac{\\mathrm{I}}{2} & 0 & -\\frac{\\mathrm{I}}{2} & -\\frac{1}{2}+\\frac{\\mathrm{I}}{2} & 0 & \\frac{1}{2} & -\\frac{1}{2}-\\frac{\\mathrm{I}}{2} & -\\frac{1}{2} & -\\frac{1}{2}-\\frac{\\mathrm{I}}{2} & \\mathit{...} \n",
       "\\\\\n",
       " \\frac{1}{2}-\\frac{\\mathrm{I}}{2} & 0 & \\frac{\\mathrm{I}}{2} & -\\frac{1}{2} & \\frac{1}{2}-\\frac{\\mathrm{I}}{2} & 0 & 0 & \\frac{1}{2}+\\frac{\\mathrm{I}}{2} & -\\frac{1}{2} & 0 & \\mathit{...} \n",
       "\\\\\n",
       " \\mathit{:} & \\mathit{:} & \\mathit{:} & \\mathit{:} & \\mathit{:} & \\mathit{:} & \\mathit{:} & \\mathit{:} & \\mathit{:} & \\mathit{:} & \\text{``16 x 48 Array''} \n",
       "\\end{array}\\right]$$"
      ]
     },
     "execution_count": 3,
     "metadata": {},
     "output_type": "execute_result"
    }
   ],
   "source": [
    "u :=\n",
    " Array([[1/2 + I/2, 1/2 + I/2, 0, -I/2, 1/2 + I/2, 0, I/2, 1/2 + I/2, -I/2, -1/2 + I/2, -1/2 + I/2, 1/2, 0, 0, I/2, 0, -1/2, 1/2 + I/2, I/2, 0, 0, I/2, -1/2 - I/2, 0, -1/2, 0, 0, -I/2, -1/2 + I/2, 1/2 + I/2, 0, 1/2, 0, 1/2, -I/2, 0, 0, 1/2, 0, -1/2, -1/2 - I/2, 1/2 - I/2, 1/2 + I/2, I/2, 0, -1/2 + I/2, 1/2 - I/2, 1/2],\n",
    "        [1/2 + I/2, 0, -1/2, -1/2, -1/2 - I/2, 0, 0, -1/2 - I/2, -I/2, 0, 1/2 - I/2, 1/2, 1/2 + I/2, 1/2 - I/2, -1/2, 0, I/2, 1/2 + I/2, I/2, 0, 1/2 + I/2, -I/2, 0, 0, 1/2, 0, 1/2 + I/2, -I/2, -1/2 + I/2, 0, 1/2 + I/2, -1/2, 0, I/2, I/2, 0, -1/2 - I/2, -I/2, 1/2 - I/2, -I/2, -1/2 - I/2, 0, 0, 1/2, 0, 1/2 - I/2, 0, I/2],\n",
    "        [0, 0, 1/2, 1/2, 0, 1/2 - I/2, 0, 0, -1/2, 0, 0, -I/2, -1/2 - I/2, -1/2 + I/2, 1/2, -1/2 + I/2, I/2, 0, -1/2, 1/2 - I/2, -1/2 - I/2, -1/2, 0, -1/2 - I/2, -I/2, 1/2 - I/2, 1/2 + I/2, 1/2, 0, 0, 1/2 + I/2, -I/2, 1/2 + I/2, -I/2, -1/2, 1/2 - I/2, -1/2 - I/2, -I/2, 1/2 - I/2, -I/2, 0, 0, 0, -1/2, 1/2 - I/2, 0, 0, I/2],\n",
    "        [0, -1/2 + I/2, 0, -1/2, 0, -1/2 - I/2, 1/2, 0, -I/2, -1/2 - I/2, 0, -1/2, 0, 0, -1/2, 1/2 + I/2, -I/2, 0, I/2, 1/2 + I/2, 0, -I/2, -1/2 + I/2, 1/2 - I/2, -1/2, 1/2 + I/2, 0, I/2, 0, 1/2 - I/2, 0, 1/2, 1/2 - I/2, -I/2, I/2, 1/2 + I/2, 0, -I/2, 0, -I/2, 0, -1/2 - I/2, -1/2 + I/2, -1/2, -1/2 - I/2, 0, 1/2 + I/2, -I/2],\n",
    "        [1/2 - I/2, 1/2 + I/2, 0, I/2, -1/2 + I/2, 0, -1/2, -1/2 - I/2, 1/2, 1/2 + I/2, -1/2 + I/2, -1/2, 0, 0, 1/2, 0, -1/2, 1/2 + I/2, I/2, 0, 0, -I/2, 1/2 - I/2, 0, -I/2, 0, 0, -1/2, -1/2 - I/2, -1/2 - I/2, 0, 1/2, 0, -1/2, -1/2, 0, 0, I/2, 0, -1/2, 1/2 + I/2, -1/2 + I/2, 1/2 - I/2, 1/2, 0, 1/2 + I/2, 1/2 - I/2, I/2],\n",
    "        [1/2 - I/2, 0, -I/2, -1/2, 1/2 - I/2, 0, 0, 1/2 + I/2, 1/2, 0, 1/2 - I/2, -1/2, -1/2 + I/2, 1/2 - I/2, -I/2, 0, -I/2, 1/2 + I/2, I/2, 0, 1/2 + I/2, I/2, 0, 0, I/2, 0, -1/2 - I/2, -1/2, -1/2 - I/2, 0, -1/2 - I/2, -1/2, 0, I/2, 1/2, 0, -1/2 + I/2, -1/2, -1/2 - I/2, I/2, 1/2 + I/2, 0, 0, I/2, 0, -1/2 - I/2, 0, 1/2],\n",
    "        [0, 0, I/2, 1/2, 0, 1/2 - I/2, 0, 0, -I/2, 0, 0, I/2, 1/2 - I/2, -1/2 + I/2, I/2, 1/2 - I/2, -I/2, 0, -1/2, 1/2 - I/2, -1/2 - I/2, 1/2, 0, 1/2 - I/2, 1/2, -1/2 - I/2, -1/2 - I/2, -I/2, 0, 0, -1/2 - I/2, -I/2, -1/2 + I/2, -I/2, I/2, -1/2 + I/2, -1/2 + I/2, -1/2, -1/2 - I/2, I/2, 0, 0, 0, -I/2, -1/2 - I/2, 0, 0, 1/2],\n",
    "        [0, -1/2 + I/2, 0, 1/2, 0, -1/2 - I/2, I/2, 0, 1/2, -1/2 + I/2, 0, 1/2, 0, 0, I/2, -1/2 - I/2, -I/2, 0, I/2, 1/2 + I/2, 0, I/2, -1/2 - I/2, 1/2 + I/2, -I/2, 1/2 - I/2, 0, 1/2, 0, -1/2 + I/2, 0, 1/2, 1/2 + I/2, I/2, 1/2, -1/2 - I/2, 0, 1/2, 0, -I/2, 0, 1/2 + I/2, 1/2 + I/2, I/2, -1/2 + I/2, 0, 1/2 + I/2, 1/2],\n",
    "        [1/2 - I/2, -1/2 - I/2, 0, -I/2, -1/2 + I/2, 0, 1/2, -1/2 - I/2, -1/2, -1/2 - I/2, 1/2 - I/2, 1/2, 0, 0, 1/2, 0, -1/2, 1/2 + I/2, I/2, 0, 0, -I/2, 1/2 - I/2, 0, -I/2, 0, 0, -1/2, 1/2 + I/2, 1/2 + I/2, 0, -1/2, 0, -1/2, 1/2, 0, 0, I/2, 0, 1/2, -1/2 - I/2, -1/2 + I/2, 1/2 - I/2, -1/2, 0, -1/2 - I/2, 1/2 - I/2, -I/2],\n",
    "        [1/2 - I/2, 0, I/2, -1/2, 1/2 - I/2, 0, 0, 1/2 + I/2, -1/2, 0, -1/2 + I/2, 1/2, -1/2 + I/2, 1/2 - I/2, I/2, 0, I/2, 1/2 + I/2, I/2, 0, -1/2 - I/2, I/2, 0, 0, I/2, 0, 1/2 + I/2, -1/2, 1/2 + I/2, 0, -1/2 - I/2, 1/2, 0, -I/2, -1/2, 0, 1/2 - I/2, 1/2, -1/2 - I/2, I/2, -1/2 - I/2, 0, 0, I/2, 0, 1/2 + I/2, 0, 1/2],\n",
    "        [0, 0, -I/2, 1/2, 0, -1/2 + I/2, 0, 0, -I/2, 0, 0, I/2, 1/2 - I/2, -1/2 + I/2, -I/2, 1/2 - I/2, I/2, 0, 1/2, 1/2 - I/2, 1/2 + I/2, -1/2, 0, 1/2 - I/2, -1/2, 1/2 + I/2, 1/2 + I/2, I/2, 0, 0, -1/2 - I/2, -I/2, 1/2 - I/2, I/2, I/2, 1/2 - I/2, 1/2 - I/2, 1/2, -1/2 - I/2, I/2, 0, 0, 0, -I/2, -1/2 - I/2, 0, 0, 1/2],\n",
    "        [0, 1/2 - I/2, 0, -1/2, 0, 1/2 + I/2, -I/2, 0, 1/2, 1/2 - I/2, 0, 1/2, 0, 0, I/2, -1/2 - I/2, -I/2, 0, -I/2, 1/2 + I/2, 0, -I/2, -1/2 - I/2, 1/2 + I/2, I/2, -1/2 + I/2, 0, -1/2, 0, 1/2 - I/2, 0, 1/2, -1/2 - I/2, I/2, 1/2, 1/2 + I/2, 0, 1/2, 0, I/2, 0, 1/2 + I/2, 1/2 + I/2, -I/2, -1/2 + I/2, 0, 1/2 + I/2, -1/2],\n",
    "        [1/2 - I/2, 1/2 - I/2, 0, -1/2, 1/2 - I/2, 0, -1/2, -1/2 + I/2, 1/2, -1/2 - I/2, 1/2 + I/2, -I/2, 0, 0, 1/2, 0, -I/2, -1/2 + I/2, -1/2, 0, 0, -1/2, -1/2 + I/2, 0, I/2, 0, 0, -1/2, -1/2 - I/2, 1/2 - I/2, 0, -I/2, 0, I/2, 1/2, 0, 0, -I/2, 0, I/2, -1/2 + I/2, 1/2 + I/2, 1/2 - I/2, -1/2, 0, -1/2 - I/2, 1/2 + I/2, I/2],\n",
    "        [1/2 - I/2, 0, -I/2, -I/2, -1/2 + I/2, 0, 0, 1/2 - I/2, 1/2, 0, -1/2 - I/2, -I/2, 1/2 - I/2, 1/2 + I/2, -I/2, 0, 1/2, -1/2 + I/2, -1/2, 0, 1/2 - I/2, 1/2, 0, 0, -I/2, 0, 1/2 - I/2, -1/2, -1/2 - I/2, 0, -1/2 + I/2, I/2, 0, 1/2, -1/2, 0, 1/2 - I/2, 1/2, -1/2 - I/2, 1/2, -1/2 + I/2, 0, 0, -I/2, 0, 1/2 + I/2, 0, 1/2],\n",
    "        [0, 0, I/2, I/2, 0, -1/2 - I/2, 0, 0, I/2, 0, 0, 1/2, -1/2 + I/2, -1/2 - I/2, I/2, -1/2 - I/2, 1/2, 0, I/2, 1/2 + I/2, -1/2 + I/2, I/2, 0, -1/2 + I/2, 1/2, 1/2 + I/2, 1/2 - I/2, I/2, 0, 0, -1/2 + I/2, 1/2, -1/2 + I/2, -1/2, I/2, -1/2 - I/2, 1/2 - I/2, 1/2, -1/2 - I/2, 1/2, 0, 0, 0, I/2, -1/2 - I/2, 0, 0, 1/2],\n",
    "        [0, 1/2 + I/2, 0, I/2, 0, -1/2 + I/2, I/2, 0, -1/2, 1/2 - I/2, 0, -I/2, 0, 0, I/2, -1/2 + I/2, 1/2, 0, 1/2, -1/2 + I/2, 0, -1/2, 1/2 + I/2, -1/2 - I/2, -I/2, -1/2 + I/2, 0, -1/2, 0, -1/2 - I/2, 0, I/2, 1/2 + I/2, 1/2, 1/2, 1/2 - I/2, 0, -1/2, 0, -1/2, 0, 1/2 - I/2, 1/2 + I/2, -I/2, -1/2 + I/2, 0, -1/2 + I/2, 1/2]\n",
    "    ]);"
   ]
  },
  {
   "cell_type": "code",
   "execution_count": 4,
   "metadata": {},
   "outputs": [
    {
     "data": {
      "text/latex": [
       "$$\\left[\\begin{array}{ccccccccccc}\n",
       "-\\frac{1}{2} & 0 & 0 & -\\frac{\\mathrm{I}}{2} & -\\frac{1}{2} & 0 & 0 & -\\frac{1}{2} & \\frac{1}{2} & 0 & \\mathit{...} \n",
       "\\\\\n",
       " 0 & \\frac{\\mathrm{I}}{2} & \\frac{1}{2}+\\frac{\\mathrm{I}}{2} & 0 & 0 & \\frac{1}{2} & -\\frac{1}{2}-\\frac{\\mathrm{I}}{2} & 0 & 0 & \\frac{\\mathrm{I}}{2} & \\mathit{...} \n",
       "\\\\\n",
       " 0 & 0 & 0 & \\frac{\\mathrm{I}}{2} & \\frac{1}{2} & 0 & 0 & 0 & -\\frac{1}{2} & \\frac{\\mathrm{I}}{2} & \\mathit{...} \n",
       "\\\\\n",
       " 0 & \\frac{\\mathrm{I}}{2} & 0 & 0 & \\frac{1}{2} & \\frac{1}{2} & 0 & \\frac{1}{2} & -\\frac{1}{2} & \\frac{\\mathrm{I}}{2} & \\mathit{...} \n",
       "\\\\\n",
       " -\\frac{1}{2} & 0 & 0 & 0 & \\frac{1}{2} & 0 & 0 & \\frac{1}{2} & \\frac{1}{2} & 0 & \\mathit{...} \n",
       "\\\\\n",
       " 0 & \\frac{\\mathrm{I}}{2} & -\\frac{1}{2}-\\frac{\\mathrm{I}}{2} & -\\frac{\\mathrm{I}}{2} & 0 & \\frac{1}{2} & \\frac{1}{2}+\\frac{\\mathrm{I}}{2} & 0 & 0 & \\frac{\\mathrm{I}}{2} & \\mathit{...} \n",
       "\\\\\n",
       " 0 & 0 & 0 & -\\frac{\\mathrm{I}}{2} & -\\frac{1}{2} & 0 & 0 & 0 & -\\frac{1}{2} & \\frac{\\mathrm{I}}{2} & \\mathit{...} \n",
       "\\\\\n",
       " 0 & \\frac{\\mathrm{I}}{2} & 0 & 0 & -\\frac{1}{2} & \\frac{1}{2} & 0 & -\\frac{1}{2} & -\\frac{1}{2} & \\frac{\\mathrm{I}}{2} & \\mathit{...} \n",
       "\\\\\n",
       " \\frac{1}{2} & 0 & 0 & 0 & \\frac{1}{2} & 0 & 0 & -\\frac{1}{2} & 0 & 0 & \\mathit{...} \n",
       "\\\\\n",
       " 0 & \\frac{\\mathrm{I}}{2} & \\frac{1}{2}+\\frac{\\mathrm{I}}{2} & \\frac{\\mathrm{I}}{2} & 0 & \\frac{1}{2} & \\frac{1}{2}+\\frac{\\mathrm{I}}{2} & 0 & \\frac{1}{2} & -\\frac{\\mathrm{I}}{2} & \\mathit{...} \n",
       "\\\\\n",
       " \\mathit{:} & \\mathit{:} & \\mathit{:} & \\mathit{:} & \\mathit{:} & \\mathit{:} & \\mathit{:} & \\mathit{:} & \\mathit{:} & \\mathit{:} & \\text{``16 x 48 Array''} \n",
       "\\end{array}\\right]$$"
      ]
     },
     "execution_count": 4,
     "metadata": {},
     "output_type": "execute_result"
    }
   ],
   "source": [
    "v :=  \n",
    " Array([[-1/2, 0, 0, -I/2, -1/2, 0, 0, -1/2, 1/2, 0, 0, -I/2, -1/2, I/2, 0, I/2, 0, -I/2, 0, -I/2, 0, 0, -I/2, -1/2, 0, 0, 0, 0, 0, 0, -1/2, 1/2, 0, 0, I/2, 0, 0, 0, I/2, -I/2, 0, 1/2, I/2, 1/2, -I/2, 0, -1/2, 1/2],\n",
    "        [0, I/2, 1/2 + I/2, 0, 0, 1/2, -1/2 - I/2, 0, 0, I/2, I/2, 0, 0, 0, -1/2, 0, 1/2, 0, -I/2, 0, -I/2, -1/2, 0, 0, I/2, I/2, 1/2, I/2, 1/2, I/2, 0, 0, I/2, -1/2, 0, -I/2, -1/2, I/2, 0, 0, I/2, 0, 0, 0, 0, -I/2, 0, 0],\n",
    "        [0, 0, 0, I/2, 1/2, 0, 0, 0, -1/2, I/2, 0, 0, 1/2, -I/2, 0, 0, 1/2, I/2, 0, I/2, 0, -1/2, I/2, 1/2, 0, I/2, 1/2, I/2, 0, I/2, 0, -1/2, 0, 0, 0, -I/2, -1/2, I/2, 0, 0, I/2, 0, 0, -1/2, 0, -I/2, 1/2, 0],\n",
    "        [0, I/2, 0, 0, 1/2, 1/2, 0, 1/2, -1/2, I/2, I/2, I/2, 1/2, 0, 0, -I/2, 0, 0, -I/2, 0, -I/2, 0, I/2, 1/2, 0, I/2, 0, I/2, 0, 0, 1/2, 0, 0, -1/2, 0, 0, -1/2, I/2, 0, I/2, 0, -1/2, 0, -1/2, 0, -I/2, 0, 0],\n",
    "        [-1/2, 0, 0, 0, 1/2, 0, 0, 1/2, 1/2, 0, 0, -I/2, -1/2, -I/2, -1/2, I/2, 1/2, -I/2, 0, I/2, 0, 0, -I/2, -1/2, 0, 0, 0, 0, 0, 0, -1/2, -1/2, 0, 1/2, -I/2, 0, 0, -I/2, -I/2, 0, 0, 1/2, -I/2, 0, I/2, 0, 1/2, 0],\n",
    "        [0, I/2, -1/2 - I/2, -I/2, 0, 1/2, 1/2 + I/2, 0, 0, I/2, -I/2, 0, 0, 0, 0, 0, 0, 0, -I/2, 0, -I/2, 1/2, 0, 0, -I/2, I/2, -1/2, I/2, 1/2, -I/2, 0, 0, -I/2, 0, 0, I/2, -1/2, 0, 0, I/2, I/2, 0, 0, -1/2, 0, I/2, 0, 1/2],\n",
    "        [0, 0, 0, -I/2, -1/2, 0, 0, 0, -1/2, I/2, 0, 0, 1/2, I/2, 0, 0, -1/2, I/2, 0, -I/2, 0, 1/2, I/2, 1/2, 0, I/2, -1/2, I/2, 0, -I/2, 0, 1/2, 0, 0, 0, I/2, -1/2, I/2, 0, 0, I/2, 0, 0, -1/2, 0, I/2, -1/2, 0],\n",
    "        [0, I/2, 0, 0, -1/2, 1/2, 0, -1/2, -1/2, I/2, -I/2, I/2, 1/2, 0, 0, -I/2, 0, 0, -I/2, 0, -I/2, 0, I/2, 1/2, 0, I/2, 0, I/2, 0, 0, 1/2, 0, 0, -1/2, 0, 0, -1/2, I/2, 0, I/2, 0, -1/2, 0, -1/2, 0, I/2, 0, 0],\n",
    "        [1/2, 0, 0, 0, 1/2, 0, 0, -1/2, 0, 0, 0, 0, 1/2, I/2, 1/2, -I/2, 1/2, -I/2, -I/2, I/2, 0, -1/2, -I/2, -1/2, -I/2, 0, 0, -I/2, 0, 0, -1/2, 0, 0, -1/2, 0, 0, 0, -I/2, -I/2, 0, 0, -1/2, I/2, 0, -I/2, 0, 1/2, 0],\n",
    "        [0, I/2, 1/2 + I/2, I/2, 0, 1/2, 1/2 + I/2, 0, 1/2, -I/2, -I/2, I/2, 0, 0, 0, 0, 0, 0, 0, 0, I/2, 0, 0, 0, 0, -I/2, -1/2, 0, 1/2, I/2, 0, -1/2, -I/2, 0, I/2, -I/2, -1/2, 0, 0, I/2, -I/2, 0, 0, 1/2, 0, -I/2, 0, 1/2],\n",
    "        [0, 0, 0, I/2, -1/2, 0, 0, 0, 0, -I/2, 0, I/2, -1/2, -I/2, 0, 0, -1/2, I/2, I/2, -I/2, 0, 0, I/2, 1/2, I/2, -I/2, -1/2, 0, 0, I/2, 0, 0, 0, 0, I/2, -I/2, -1/2, I/2, 0, 0, -I/2, 0, 0, 1/2, 0, -I/2, -1/2, 0],\n",
    "        [0, I/2, 0, 0, -1/2, 1/2, 0, 1/2, 0, -I/2, -I/2, 0, -1/2, 0, 0, I/2, 0, 0, 0, 0, I/2, 1/2, I/2, 1/2, I/2, -I/2, 0, 0, 0, 0, 1/2, -1/2, 0, 1/2, I/2, 0, -1/2, I/2, 0, I/2, 0, 1/2, 0, 1/2, 0, -I/2, 0, 0],\n",
    "        [-I/2, 0, 0, 1/2, I/2, 0, 0, I/2, 0, 0, 0, 0, I/2, -1/2, 0, 1/2, 0, 1/2, 1/2, 1/2, 0, I/2, 1/2, I/2, 1/2, 0, 0, -1/2, 0, 0, I/2, 0, 0, 0, 0, 0, 0, 0, -1/2, -1/2, 0, I/2, 1/2, -I/2, 1/2, 0, I/2, I/2],\n",
    "        [0, 1/2, 1/2 - I/2, 0, 0, I/2, 1/2 - I/2, 0, -I/2, 1/2, -1/2, -1/2, 0, 0, I/2, 0, -I/2, 0, 0, 0, 1/2, 0, 0, 0, 0, -1/2, -I/2, 0, -I/2, -1/2, 0, I/2, 1/2, -I/2, -1/2, -1/2, -I/2, -1/2, 0, 0, 1/2, 0, 0, 0, 0, 1/2, 0, 0],\n",
    "        [0, 0, 0, -1/2, -I/2, 0, 0, 0, 0, 1/2, 0, -1/2, -I/2, 1/2, 0, 0, -I/2, -1/2, -1/2, -1/2, 0, 0, -1/2, -I/2, -1/2, -1/2, -I/2, 0, 0, -1/2, 0, 0, 0, 0, -1/2, -1/2, -I/2, -1/2, 0, 0, 1/2, 0, 0, I/2, 0, 1/2, -I/2, 0],\n",
    "        [0, 1/2, 0, 0, -I/2, I/2, 0, -I/2, 0, 1/2, -1/2, 0, -I/2, 0, 0, -1/2, 0, 0, 0, 0, 1/2, -I/2, -1/2, -I/2, -1/2, -1/2, 0, 0, 0, 0, -I/2, I/2, 0, -I/2, -1/2, 0, -I/2, -1/2, 0, 1/2, 0, -I/2, 0, I/2, 0, 1/2, 0, 0]\n",
    "    ]);"
   ]
  },
  {
   "cell_type": "code",
   "execution_count": 5,
   "metadata": {},
   "outputs": [
    {
     "data": {
      "text/latex": [
       "$$\\left[\\begin{array}{ccccccccccc}\n",
       "\\frac{\\mathrm{I}}{2} & -\\frac{\\mathrm{I}}{2} & 0 & 0 & 0 & -\\frac{1}{2} & 0 & 0 & \\frac{1}{2} & \\frac{\\mathrm{I}}{2} & \\mathit{...} \n",
       "\\\\\n",
       " -\\frac{1}{2} & -\\frac{1}{2} & 0 & 0 & 0 & -\\frac{1}{2} & 0 & 0 & -\\frac{\\mathrm{I}}{2} & -\\frac{\\mathrm{I}}{2} & \\mathit{...} \n",
       "\\\\\n",
       " -\\frac{\\mathrm{I}}{2} & \\frac{\\mathrm{I}}{2} & 0 & 0 & 0 & \\frac{\\mathrm{I}}{2} & 0 & 0 & -\\frac{\\mathrm{I}}{2} & \\frac{1}{2} & \\mathit{...} \n",
       "\\\\\n",
       " -\\frac{\\mathrm{I}}{2} & -\\frac{\\mathrm{I}}{2} & 0 & 0 & 0 & \\frac{1}{2} & 0 & 0 & \\frac{\\mathrm{I}}{2} & \\frac{\\mathrm{I}}{2} & \\mathit{...} \n",
       "\\\\\n",
       " -\\frac{\\mathrm{I}}{2} & 0 & \\frac{1}{2} & -\\frac{1}{2}-\\frac{\\mathrm{I}}{2} & 0 & \\frac{1}{2} & \\frac{1}{2} & 0 & -\\frac{1}{2} & 0 & \\mathit{...} \n",
       "\\\\\n",
       " \\frac{1}{2} & 0 & -\\frac{1}{2} & \\frac{1}{2}-\\frac{\\mathrm{I}}{2} & 0 & \\frac{1}{2} & \\frac{1}{2} & 0 & \\frac{\\mathrm{I}}{2} & 0 & \\mathit{...} \n",
       "\\\\\n",
       " \\frac{\\mathrm{I}}{2} & 0 & \\frac{\\mathrm{I}}{2} & -\\frac{1}{2}-\\frac{\\mathrm{I}}{2} & 0 & -\\frac{\\mathrm{I}}{2} & \\frac{\\mathrm{I}}{2} & 0 & \\frac{\\mathrm{I}}{2} & 0 & \\mathit{...} \n",
       "\\\\\n",
       " \\frac{\\mathrm{I}}{2} & 0 & -\\frac{1}{2} & -\\frac{1}{2}-\\frac{\\mathrm{I}}{2} & 0 & -\\frac{1}{2} & \\frac{1}{2} & 0 & -\\frac{\\mathrm{I}}{2} & 0 & \\mathit{...} \n",
       "\\\\\n",
       " 0 & 0 & -\\frac{1}{2} & \\frac{1}{2} & 0 & -\\frac{1}{2} & 0 & 0 & -\\frac{\\mathrm{I}}{2} & 0 & \\mathit{...} \n",
       "\\\\\n",
       " 0 & 0 & \\frac{1}{2} & -\\frac{1}{2} & 0 & -\\frac{1}{2} & 0 & 0 & -\\frac{1}{2} & 0 & \\mathit{...} \n",
       "\\\\\n",
       " \\mathit{:} & \\mathit{:} & \\mathit{:} & \\mathit{:} & \\mathit{:} & \\mathit{:} & \\mathit{:} & \\mathit{:} & \\mathit{:} & \\mathit{:} & \\text{``16 x 48 Array''} \n",
       "\\end{array}\\right]$$"
      ]
     },
     "execution_count": 5,
     "metadata": {},
     "output_type": "execute_result"
    }
   ],
   "source": [
    "w :=\n",
    " Array([[I/2, -I/2, 0, 0, 0, -1/2, 0, 0, 1/2, I/2, 0, -1/2 + I/2, 0, 0, 1/2, -I/2, -1/2 - I/2, I/2, -1/2 - I/2, 0, 0, 0, 0, 0, -I/2, 0, I/2, I/2, 1/2, 0, I/2, 0, -I/2, 0, 1/2, 0, 1/2, -I/2, -1/2, 1/2 - I/2, -I/2, 0, -1/2, -1/2, -1/2, 0, -I/2, 1/2],\n",
    "        [-1/2, -1/2, 0, 0, 0, -1/2, 0, 0, -I/2, -I/2, 0, 1/2 - I/2, 0, 0, -I/2, I/2, -1/2 + I/2, I/2, -1/2 - I/2, 0, 0, 0, 0, 0, -1/2, 0, 1/2, -1/2, -I/2, 0, 1/2, 0, -1/2, 0, I/2, 0, 1/2, -1/2, -1/2, -1/2 - I/2, I/2, 0, 1/2, I/2, -I/2, 0, -1/2, -I/2],\n",
    "        [-I/2, I/2, 0, 0, 0, I/2, 0, 0, -I/2, 1/2, 0, 1/2 + I/2, 0, 0, I/2, -1/2, -1/2 - I/2, 1/2, -1/2 + I/2, 0, 0, 0, 0, 0, -1/2, 0, I/2, 1/2, -1/2, 0, -I/2, 0, -I/2, 0, -I/2, 0, -I/2, -1/2, -I/2, -1/2 + I/2, -1/2, 0, -I/2, I/2, -1/2, 0, -I/2, I/2],\n",
    "        [-I/2, -I/2, 0, 0, 0, 1/2, 0, 0, I/2, I/2, 0, -1/2 + I/2, 0, 0, -I/2, -I/2, 1/2 + I/2, -I/2, 1/2 + I/2, 0, 0, 0, 0, 0, 1/2, 0, -I/2, 1/2, 1/2, 0, I/2, 0, I/2, 0, -I/2, 0, -1/2, 1/2, -1/2, 1/2 - I/2, -I/2, 0, 1/2, -I/2, -1/2, 0, I/2, -I/2],\n",
    "        [-I/2, 0, 1/2, -1/2 - I/2, 0, 1/2, 1/2, 0, -1/2, 0, 0, 1/2 - I/2, -1/2, I/2, I/2, I/2, 0, -I/2, 1/2 + I/2, 0, 1/2, 0, -1/2, 0, I/2, 0, 0, -I/2, -1/2, -I/2, 0, 0, I/2, -1/2 - I/2, -1/2, 0, 0, -1/2, 0, 0, I/2, I/2, 0, -I/2, 1/2, 0, 0, -I/2],\n",
    "        [1/2, 0, -1/2, 1/2 - I/2, 0, 1/2, 1/2, 0, I/2, 0, 0, -1/2 + I/2, 1/2, -1/2, -1/2, -I/2, 0, -I/2, 1/2 + I/2, 0, I/2, 0, -1/2, 0, 1/2, 0, 0, 1/2, I/2, 1/2, 0, 0, 1/2, 1/2 - I/2, -I/2, 0, 0, -I/2, 0, 0, -I/2, -1/2, 0, 1/2, I/2, 0, 0, 1/2],\n",
    "        [I/2, 0, I/2, -1/2 - I/2, 0, -I/2, I/2, 0, I/2, 0, 0, -1/2 - I/2, I/2, I/2, -1/2, 1/2, 0, -1/2, 1/2 - I/2, 0, -1/2, 0, I/2, 0, 1/2, 0, 0, -1/2, 1/2, -I/2, 0, 0, I/2, 1/2 + I/2, I/2, 0, 0, I/2, 0, 0, 1/2, -I/2, 0, -1/2, 1/2, 0, 0, 1/2],\n",
    "        [I/2, 0, -1/2, -1/2 - I/2, 0, -1/2, 1/2, 0, -I/2, 0, 0, 1/2 - I/2, -1/2, I/2, -1/2, I/2, 0, I/2, -1/2 - I/2, 0, -1/2, 0, 1/2, 0, -1/2, 0, 0, -1/2, -1/2, -I/2, 0, 0, -I/2, 1/2 + I/2, I/2, 0, 0, I/2, 0, 0, I/2, -I/2, 0, -1/2, 1/2, 0, 0, 1/2],\n",
    "        [0, 0, -1/2, 1/2, 0, -1/2, 0, 0, -I/2, 0, 0, I/2, 1/2, -I/2, -I/2, -I/2, -1/2, 0, -1/2, I/2, -1/2, I/2, 0, -1/2, -I/2, -1/2, I/2, 1/2, 0, 0, I/2, -1/2, -I/2, 1/2, 1/2, I/2, 1/2, -I/2, -1/2, -I/2, 0, 0, 0, I/2, -1/2, 0, 0, 1/2],\n",
    "        [0, 0, 1/2, -1/2, 0, -1/2, 0, 0, -1/2, 0, 0, -I/2, -1/2, 1/2, 1/2, I/2, -1/2, 0, -1/2, I/2, -I/2, -I/2, 0, I/2, -1/2, -I/2, 1/2, I/2, 0, 0, 1/2, -1/2, -1/2, -1/2, I/2, -I/2, 1/2, -1/2, -1/2, -I/2, 0, 0, 0, -1/2, -I/2, 0, 0, -I/2],\n",
    "        [0, 0, -I/2, 1/2, 0, I/2, 0, 0, 1/2, 0, 0, I/2, -I/2, -I/2, 1/2, -1/2, -1/2, 0, -1/2, -1/2, 1/2, -I/2, 0, 1/2, -1/2, 1/2, I/2, I/2, 0, 0, -I/2, 1/2, -I/2, -1/2, -I/2, -1/2, -I/2, -1/2, -I/2, I/2, 0, 0, 0, 1/2, -1/2, 0, 0, I/2],\n",
    "        [0, 0, 1/2, I/2, 0, 1/2, 0, 0, -1/2, 0, 0, -1/2, 1/2, -I/2, 1/2, -I/2, I/2, 0, I/2, I/2, 1/2, 1/2, 0, -1/2, 1/2, 1/2, -I/2, I/2, 0, 0, I/2, -I/2, I/2, -I/2, -I/2, -I/2, -1/2, 1/2, -1/2, 1/2, 0, 0, 0, 1/2, -1/2, 0, 0, -I/2],\n",
    "        [I/2, -I/2, 0, I/2, -I/2, 0, -1/2, 1/2, 1/2, I/2, -1/2, -1/2, 0, 0, 1/2, 0, -I/2, I/2, -I/2, 0, 0, -1/2, 1/2, 0, 1/2, 0, 0, I/2, 1/2, I/2, 0, -I/2, 0, I/2, I/2, 0, 0, 1/2, 0, 1/2, -I/2, -I/2, -1/2, -1/2, 0, -I/2, -I/2, I/2],\n",
    "        [-1/2, -1/2, 0, I/2, -1/2, 0, -1/2, -1/2, -I/2, -I/2, -1/2, 1/2, 0, 0, -I/2, 0, I/2, I/2, -I/2, 0, 0, 1/2, 1/2, 0, -I/2, 0, 0, -1/2, -I/2, -1/2, 0, -I/2, 0, I/2, -1/2, 0, 0, I/2, 0, -1/2, I/2, 1/2, 1/2, I/2, 0, 1/2, -1/2, -1/2],\n",
    "        [-I/2, I/2, 0, I/2, -I/2, 0, -I/2, I/2, -I/2, 1/2, -I/2, 1/2, 0, 0, I/2, 0, -I/2, 1/2, I/2, 0, 0, -1/2, -I/2, 0, I/2, 0, 0, 1/2, -1/2, I/2, 0, -I/2, 0, -I/2, -1/2, 0, 0, -I/2, 0, -1/2, -1/2, I/2, -I/2, I/2, 0, -I/2, -I/2, -1/2],\n",
    "        [-I/2, -I/2, 0, 1/2, I/2, 0, -1/2, -1/2, I/2, I/2, -1/2, I/2, 0, 0, -I/2, 0, 1/2, -I/2, 1/2, 0, 0, -I/2, -1/2, 0, -I/2, 0, 0, 1/2, 1/2, I/2, 0, -1/2, 0, -1/2, -1/2, 0, 0, -I/2, 0, -I/2, -I/2, I/2, 1/2, -I/2, 0, -I/2, I/2, -1/2]\n",
    "    ]); "
   ]
  },
  {
   "cell_type": "code",
   "execution_count": 6,
   "metadata": {},
   "outputs": [
    {
     "data": {
      "text/markdown": [
       "$$48$$"
      ]
     },
     "execution_count": 6,
     "metadata": {},
     "output_type": "execute_result"
    }
   ],
   "source": [
    "rank := numelems(u[1])"
   ]
  },
  {
   "cell_type": "code",
   "execution_count": 7,
   "metadata": {},
   "outputs": [
    {
     "data": {
      "text/latex": [
       "$$\\left[\\begin{array}{c}\n",
       " \n",
       "\\\\\n",
       "  \n",
       "\\\\\n",
       "  \n",
       "\\\\\n",
       "  \n",
       "\\\\\n",
       "  \n",
       "\\\\\n",
       "  \n",
       "\\\\\n",
       "  \n",
       "\\\\\n",
       "  \n",
       "\\\\\n",
       "  \n",
       "\\\\\n",
       "  \n",
       "\\\\\n",
       " \\text{``48 element Vector[column]''} \n",
       "\\end{array}\\right]$$"
      ]
     },
     "execution_count": 7,
     "metadata": {},
     "output_type": "execute_result"
    }
   ],
   "source": [
    "# this is the Tensor format used by FMM https://fmm.univ-lille.fr/\n",
    "    Tensor := TriadSet([seq(Triad([\n",
    "            Matrix(dims[1], dims[2],(convert(u[..,i],list))),\n",
    "            Matrix(dims[2], dims[3], (convert(v[..,i],list))),\n",
    "            Matrix(dims[3], dims[1], (convert(w[..,i],list))) ])\n",
    "        ,i=1..rank)]):\n",
    "Vector([op(Tensor)]);"
   ]
  },
  {
   "cell_type": "code",
   "execution_count": 8,
   "metadata": {},
   "outputs": [],
   "source": [
    "#check\n",
    "    chk := add(\n",
    "         LinearAlgebra:-Trace(LinearAlgebra:-Transpose(op([1,i,1,1],Tensor)).A)\n",
    "        *LinearAlgebra:-Trace(LinearAlgebra:-Transpose(op([1,i,1,2],Tensor)).B)\n",
    "        *LinearAlgebra:-Transpose(op([1,i,1,3],Tensor)),\n",
    "        i=1..rank):"
   ]
  },
  {
   "cell_type": "code",
   "execution_count": 9,
   "metadata": {},
   "outputs": [
    {
     "data": {
      "text/plain": [
       "                                       [0    0    0    0]"
      ]
     },
     "metadata": {},
     "output_type": "display_data"
    }
   ],
   "source": [
    "        print(check(4,4,4)=(map(expand,A.B - chk) ));"
   ]
  },
  {
   "cell_type": "code",
   "execution_count": 10,
   "metadata": {},
   "outputs": [],
   "source": [
    "   tmp := seq(\n",
    "        LinearAlgebra:-Trace(LinearAlgebra:-Transpose(op([1,i,1,1],Tensor)).A)\n",
    "        *LinearAlgebra:-Trace(LinearAlgebra:-Transpose(op([1,i,1,2],Tensor)).B)\n",
    "        *LinearAlgebra:-Transpose(op([1,i,1,3],Tensor)),\n",
    "        i=1..rank):"
   ]
  },
  {
   "cell_type": "code",
   "execution_count": 11,
   "metadata": {},
   "outputs": [
    {
     "data": {
      "text/latex": [
       "$$\\left[\\begin{array}{c}\n",
       "m_{1} =\n",
       "\\\\\n",
       "\\left(\\left(\\frac{1}{2}+\\frac{\\mathrm{I}}{2}\\right) a_{\\texttt{1,1}} +\\left(\\frac{1}{2}-\\frac{\\mathrm{I}}{2}\\right) a_{\\texttt{2,1}} +\\left(\\frac{1}{2}-\\frac{\\mathrm{I}}{2}\\right) a_{\\texttt{3,1}} +\\left(\\frac{1}{2}-\\frac{\\mathrm{I}}{2}\\right) a_{\\texttt{4,1}} +\\left(\\frac{1}{2}+\\frac{\\mathrm{I}}{2}\\right) a_{\\texttt{1,2}} +\n",
       "\\right. \\\\ \\left. \n",
       "\\left(\\frac{1}{2}-\\frac{\\mathrm{I}}{2}\\right) a_{\\texttt{2,2}} +\\left(\\frac{1}{2}-\\frac{\\mathrm{I}}{2}\\right) a_{\\texttt{3,2}} +\\left(\\frac{1}{2}-\\frac{\\mathrm{I}}{2}\\right) a_{\\texttt{4,2}} \\right)\n",
       "\\\\\n",
       " \\left(-\\frac{b_{\\texttt{1,1}}}{2}-\\frac{b_{\\texttt{2,1}}}{2}+\\frac{b_{\\texttt{3,1}}}{2}-\\frac{\\mathrm{I} b_{\\texttt{4,1}}}{2}\\right) \n",
       "\\\\\n",
       " m_{2} =\n",
       "\\\\\n",
       "\\left(\\left(\\frac{1}{2}+\\frac{\\mathrm{I}}{2}\\right) a_{\\texttt{1,1}} +\\left(\\frac{1}{2}+\\frac{\\mathrm{I}}{2}\\right) a_{\\texttt{2,1}} -\\left(\\frac{1}{2}+\\frac{\\mathrm{I}}{2}\\right) a_{\\texttt{3,1}} +\\left(\\frac{1}{2}-\\frac{\\mathrm{I}}{2}\\right) a_{\\texttt{4,1}} +\\left(-\\frac{1}{2}+\\frac{\\mathrm{I}}{2}\\right) a_{\\texttt{1,4}} +\n",
       "\\right. \\\\ \\left. \n",
       "\\left(-\\frac{1}{2}+\\frac{\\mathrm{I}}{2}\\right) a_{\\texttt{2,4}} +\\left(\\frac{1}{2}-\\frac{\\mathrm{I}}{2}\\right) a_{\\texttt{3,4}} +\\left(\\frac{1}{2}+\\frac{\\mathrm{I}}{2}\\right) a_{\\texttt{4,4}} \\right)\n",
       "\\\\\n",
       " \\left(\\frac{\\mathrm{I} b_{\\texttt{1,2}}}{2}+\\frac{\\mathrm{I} b_{\\texttt{2,2}}}{2}+\\frac{\\mathrm{I} b_{\\texttt{3,2}}}{2}+\\frac{b_{\\texttt{4,2}}}{2}+\\frac{\\mathrm{I} b_{\\texttt{1,4}}}{2}+\\frac{\\mathrm{I} b_{\\texttt{2,4}}}{2}+\\frac{\\mathrm{I} b_{\\texttt{3,4}}}{2}+\\frac{b_{\\texttt{4,4}}}{2}\\right) \n",
       "\\\\\n",
       " m_{3} =\n",
       "\\\\\n",
       "\\left(-\\frac{a_{\\texttt{1,2}}}{2}-\\frac{\\mathrm{I} a_{\\texttt{2,2}}}{2}+\\frac{\\mathrm{I} a_{\\texttt{3,2}}}{2}-\\frac{\\mathrm{I} a_{\\texttt{4,2}}}{2}+\\frac{a_{\\texttt{1,3}}}{2}+\\frac{\\mathrm{I} a_{\\texttt{2,3}}}{2}-\\frac{\\mathrm{I} a_{\\texttt{3,3}}}{2}+\\frac{\\mathrm{I} a_{\\texttt{4,3}}}{2}\\right) \n",
       "\\\\\n",
       "\\left(\\left(\\frac{1}{2}+\\frac{\\mathrm{I}}{2}\\right) b_{\\texttt{1,2}} -\\left(\\frac{1}{2}+\\frac{\\mathrm{I}}{2}\\right) b_{\\texttt{2,2}} +\\left(\\frac{1}{2}+\\frac{\\mathrm{I}}{2}\\right) b_{\\texttt{3,2}} +\\left(\\frac{1}{2}-\\frac{\\mathrm{I}}{2}\\right) b_{\\texttt{4,2}} \\right) \n",
       "\\\\\n",
       " m_{4} =\n",
       "\\\\\n",
       "\\left(-\\frac{\\mathrm{I} a_{\\texttt{1,1}}}{2}+\\frac{\\mathrm{I} a_{\\texttt{2,1}}}{2}-\\frac{\\mathrm{I} a_{\\texttt{3,1}}}{2}-\\frac{a_{\\texttt{4,1}}}{2}-\\frac{a_{\\texttt{1,2}}}{2}-\\frac{a_{\\texttt{2,2}}}{2}-\\frac{a_{\\texttt{3,2}}}{2}+\\frac{\\mathrm{I} a_{\\texttt{4,4}}}{2}+\\frac{a_{\\texttt{1,3}}}{2}+\\frac{a_{\\texttt{2,3}}}{2}+\\frac{a_{\\texttt{3,3}}}{2}+\n",
       "\\right. \\\\ \\left. \n",
       "\\frac{\\mathrm{I} a_{\\texttt{4,3}}}{2}-\\frac{a_{\\texttt{1,4}}}{2}+\\frac{a_{\\texttt{2,4}}}{2}-\\frac{a_{\\texttt{3,4}}}{2}-\\frac{\\mathrm{I} a_{\\texttt{4,2}}}{2}\\right)\n",
       "\\\\\n",
       " \\left(-\\frac{\\mathrm{I} b_{\\texttt{1,1}}}{2}+\\frac{b_{\\texttt{4,1}}}{2}-\\frac{\\mathrm{I} b_{\\texttt{2,2}}}{2}+\\frac{\\mathrm{I} b_{\\texttt{3,2}}}{2}+\\frac{\\mathrm{I} b_{\\texttt{1,3}}}{2}-\\frac{\\mathrm{I} b_{\\texttt{2,3}}}{2}+\\frac{\\mathrm{I} b_{\\texttt{3,3}}}{2}-\\frac{b_{\\texttt{4,3}}}{2}\\right) \n",
       "\\\\\n",
       " m_{5} =\n",
       "\\\\\n",
       "\\left(\\left(\\frac{1}{2}+\\frac{\\mathrm{I}}{2}\\right) a_{\\texttt{1,1}} +\\left(-\\frac{1}{2}+\\frac{\\mathrm{I}}{2}\\right) a_{\\texttt{2,1}} +\\left(-\\frac{1}{2}+\\frac{\\mathrm{I}}{2}\\right) a_{\\texttt{3,1}} +\\left(\\frac{1}{2}-\\frac{\\mathrm{I}}{2}\\right) a_{\\texttt{4,1}} -\\left(\\frac{1}{2}+\\frac{\\mathrm{I}}{2}\\right) a_{\\texttt{1,2}} \n",
       "\\right. \\\\ \\left. \n",
       "+\\left(\\frac{1}{2}-\\frac{\\mathrm{I}}{2}\\right) a_{\\texttt{2,2}} +\\left(\\frac{1}{2}-\\frac{\\mathrm{I}}{2}\\right) a_{\\texttt{3,2}} +\\left(-\\frac{1}{2}+\\frac{\\mathrm{I}}{2}\\right) a_{\\texttt{4,2}} \\right)\n",
       "\\\\\n",
       " \n",
       "\\\\\n",
       "\\left(-\\frac{b_{\\texttt{1,1}}}{2}+\\frac{b_{\\texttt{2,1}}}{2}+\\frac{b_{\\texttt{3,1}}}{2}+\\frac{\\mathrm{I} b_{\\texttt{4,1}}}{2}+\\frac{b_{\\texttt{1,3}}}{2}-\\frac{b_{\\texttt{2,3}}}{2}-\\frac{b_{\\texttt{3,3}}}{2}-\\frac{\\mathrm{I} b_{\\texttt{4,3}}}{2}+\\frac{b_{\\texttt{1,4}}}{2}-\\frac{b_{\\texttt{2,4}}}{2}-\\frac{b_{\\texttt{3,4}}}{2}-\\frac{\\mathrm{I} b_{\\texttt{4,4}}}{2}\\right) \n",
       "\\\\\n",
       " m_{6} =\n",
       "\\\\\n",
       "\\left(\\left(\\frac{1}{2}-\\frac{\\mathrm{I}}{2}\\right) a_{\\texttt{1,3}} +\\left(\\frac{1}{2}-\\frac{\\mathrm{I}}{2}\\right) a_{\\texttt{2,3}} +\\left(-\\frac{1}{2}+\\frac{\\mathrm{I}}{2}\\right) a_{\\texttt{3,3}} -\\left(\\frac{1}{2}+\\frac{\\mathrm{I}}{2}\\right) a_{\\texttt{4,3}} -\\left(\\frac{1}{2}+\\frac{\\mathrm{I}}{2}\\right) a_{\\texttt{1,4}} -\n",
       "\\right. \\\\ \\left. \n",
       "\\left(\\frac{1}{2}+\\frac{\\mathrm{I}}{2}\\right) a_{\\texttt{2,4}} +\\left(\\frac{1}{2}+\\frac{\\mathrm{I}}{2}\\right) a_{\\texttt{3,4}} +\\left(-\\frac{1}{2}+\\frac{\\mathrm{I}}{2}\\right) a_{\\texttt{4,4}} \\right)\n",
       "\\\\\n",
       " \\left(\\frac{b_{\\texttt{1,2}}}{2}+\\frac{b_{\\texttt{2,2}}}{2}+\\frac{b_{\\texttt{3,2}}}{2}+\\frac{\\mathrm{I} b_{\\texttt{4,2}}}{2}+\\frac{b_{\\texttt{1,4}}}{2}+\\frac{b_{\\texttt{2,4}}}{2}+\\frac{b_{\\texttt{3,4}}}{2}+\\frac{\\mathrm{I} b_{\\texttt{4,4}}}{2}\\right) \n",
       "\\\\\n",
       " m_{7} =\n",
       "\\\\\n",
       "\\left(\\frac{\\mathrm{I} a_{\\texttt{1,1}}}{2}-\\frac{a_{\\texttt{2,1}}}{2}+\\frac{a_{\\texttt{3,1}}}{2}-\\frac{a_{\\texttt{4,1}}}{2}+\\frac{a_{\\texttt{1,4}}}{2}+\\frac{\\mathrm{I} a_{\\texttt{2,4}}}{2}-\\frac{\\mathrm{I} a_{\\texttt{3,4}}}{2}+\\frac{\\mathrm{I} a_{\\texttt{4,4}}}{2}\\right) \n",
       "\\\\\n",
       "\\left(-\\left(\\frac{1}{2}+\\frac{\\mathrm{I}}{2}\\right) b_{\\texttt{1,2}} +\\left(\\frac{1}{2}+\\frac{\\mathrm{I}}{2}\\right) b_{\\texttt{2,2}} +\\left(\\frac{1}{2}+\\frac{\\mathrm{I}}{2}\\right) b_{\\texttt{3,2}} +\\left(\\frac{1}{2}-\\frac{\\mathrm{I}}{2}\\right) b_{\\texttt{4,2}} \\right) \n",
       "\\\\\n",
       " m_{8} =\n",
       "\\\\\n",
       "\\left(\\left(\\frac{1}{2}+\\frac{\\mathrm{I}}{2}\\right) a_{\\texttt{1,1}} -\\left(\\frac{1}{2}+\\frac{\\mathrm{I}}{2}\\right) a_{\\texttt{2,1}} -\\left(\\frac{1}{2}+\\frac{\\mathrm{I}}{2}\\right) a_{\\texttt{3,1}} +\\left(-\\frac{1}{2}+\\frac{\\mathrm{I}}{2}\\right) a_{\\texttt{4,1}} -\\left(\\frac{1}{2}+\\frac{\\mathrm{I}}{2}\\right) a_{\\texttt{1,2}} +\n",
       "\\right. \\\\ \\left. \n",
       "\\left(\\frac{1}{2}+\\frac{\\mathrm{I}}{2}\\right) a_{\\texttt{2,2}} +\\left(\\frac{1}{2}+\\frac{\\mathrm{I}}{2}\\right) a_{\\texttt{3,2}} +\\left(\\frac{1}{2}-\\frac{\\mathrm{I}}{2}\\right) a_{\\texttt{4,2}} \\right)\n",
       "\\\\\n",
       " \\left(-\\frac{b_{\\texttt{1,1}}}{2}+\\frac{b_{\\texttt{2,1}}}{2}-\\frac{b_{\\texttt{3,1}}}{2}+\\frac{\\mathrm{I} b_{\\texttt{4,1}}}{2}+\\frac{b_{\\texttt{1,4}}}{2}-\\frac{b_{\\texttt{2,4}}}{2}+\\frac{b_{\\texttt{3,4}}}{2}-\\frac{\\mathrm{I} b_{\\texttt{4,4}}}{2}\\right) \n",
       "\\\\\n",
       " m_{9} =\n",
       "\\\\\n",
       "\\left(-\\frac{\\mathrm{I} a_{\\texttt{1,1}}}{2}+\\frac{a_{\\texttt{2,1}}}{2}-\\frac{a_{\\texttt{3,1}}}{2}+\\frac{a_{\\texttt{4,1}}}{2}-\\frac{\\mathrm{I} a_{\\texttt{1,4}}}{2}+\\frac{a_{\\texttt{2,2}}}{2}-\\frac{a_{\\texttt{3,2}}}{2}+\\frac{a_{\\texttt{4,2}}}{2}-\\frac{a_{\\texttt{1,3}}}{2}-\\frac{\\mathrm{I} a_{\\texttt{2,3}}}{2}-\\frac{\\mathrm{I} a_{\\texttt{3,3}}}{2}+\n",
       "\\right. \\\\ \\left. \n",
       "\\frac{\\mathrm{I} a_{\\texttt{4,3}}}{2}-\\frac{\\mathrm{I} a_{\\texttt{1,2}}}{2}+\\frac{a_{\\texttt{2,4}}}{2}+\\frac{a_{\\texttt{3,4}}}{2}-\\frac{a_{\\texttt{4,4}}}{2}\\right)\n",
       "\\\\\n",
       " \\left(\\frac{b_{\\texttt{1,1}}}{2}+\\frac{b_{\\texttt{2,1}}}{2}+\\frac{b_{\\texttt{3,2}}}{2}-\\frac{\\mathrm{I} b_{\\texttt{4,2}}}{2}-\\frac{b_{\\texttt{1,3}}}{2}-\\frac{b_{\\texttt{2,3}}}{2}-\\frac{b_{\\texttt{1,4}}}{2}-\\frac{b_{\\texttt{2,4}}}{2}\\right) \n",
       "\\\\\n",
       " m_{10} =\n",
       "\\\\\n",
       "\\left(\\left(-\\frac{1}{2}+\\frac{\\mathrm{I}}{2}\\right) a_{\\texttt{1,1}} +\\left(\\frac{1}{2}+\\frac{\\mathrm{I}}{2}\\right) a_{\\texttt{2,1}} -\\left(\\frac{1}{2}+\\frac{\\mathrm{I}}{2}\\right) a_{\\texttt{3,1}} -\\left(\\frac{1}{2}+\\frac{\\mathrm{I}}{2}\\right) a_{\\texttt{4,1}} -\\left(\\frac{1}{2}+\\frac{\\mathrm{I}}{2}\\right) a_{\\texttt{1,4}} +\n",
       "\\right. \\\\ \\left. \n",
       "\\left(-\\frac{1}{2}+\\frac{\\mathrm{I}}{2}\\right) a_{\\texttt{2,4}} +\\left(\\frac{1}{2}-\\frac{\\mathrm{I}}{2}\\right) a_{\\texttt{3,4}} +\\left(\\frac{1}{2}-\\frac{\\mathrm{I}}{2}\\right) a_{\\texttt{4,4}} \\right)\n",
       "\\\\\n",
       " \n",
       "\\\\\n",
       "\\left(\\frac{\\mathrm{I} b_{\\texttt{1,2}}}{2}+\\frac{\\mathrm{I} b_{\\texttt{2,2}}}{2}-\\frac{\\mathrm{I} b_{\\texttt{3,2}}}{2}+\\frac{b_{\\texttt{4,2}}}{2}+\\frac{\\mathrm{I} b_{\\texttt{1,3}}}{2}+\\frac{\\mathrm{I} b_{\\texttt{2,3}}}{2}-\\frac{\\mathrm{I} b_{\\texttt{3,3}}}{2}+\\frac{b_{\\texttt{4,3}}}{2}+\\frac{\\mathrm{I} b_{\\texttt{1,4}}}{2}+\\frac{\\mathrm{I} b_{\\texttt{2,4}}}{2}-\n",
       "\\right. \\\\ \\left. \n",
       "\\frac{\\mathrm{I} b_{\\texttt{3,4}}}{2}+\\frac{b_{\\texttt{4,4}}}{2}\\right) \n",
       "\\\\\n",
       " \\text{``48 element Vector[column]''} \n",
       "\\end{array}\\right]$$"
      ]
     },
     "execution_count": 11,
     "metadata": {},
     "output_type": "execute_result"
    }
   ],
   "source": [
    "    MUL := [seq(\n",
    "            cat(`m__`,i)=remove(type,convert(tmp[i],set)[-1],numeric),\n",
    "        i=1..rank)]:\n",
    "    Vector(MUL);"
   ]
  },
  {
   "cell_type": "code",
   "execution_count": 12,
   "metadata": {},
   "outputs": [
    {
     "data": {
      "text/latex": [
       "$$\\left[\\begin{array}{c}\n",
       "c_{\\texttt{1,1}} =\n",
       "\\\\\n",
       "\\frac{\\mathrm{I} m_{1}}{2}-\\frac{\\mathrm{I} m_{2}}{2}+\\frac{\\mathrm{I} m_{10}}{2}+\\left(-\\frac{1}{2}+\\frac{\\mathrm{I}}{2}\\right) m_{12} -\\frac{\\mathrm{I} m_{16}}{2}-\\left(\\frac{1}{2}+\\frac{\\mathrm{I}}{2}\\right) m_{17} +\\frac{\\mathrm{I} m_{18}}{2}-\\left(\\frac{1}{2}+\\frac{\\mathrm{I}}{2}\\right) m_{19} \n",
       "\\\\\n",
       "-\\frac{\\mathrm{I} m_{25}}{2}+\\frac{\\mathrm{I} m_{27}}{2}+\\frac{\\mathrm{I} m_{28}}{2}+\\frac{\\mathrm{I} m_{31}}{2}-\\frac{\\mathrm{I} m_{33}}{2}-\\frac{\\mathrm{I} m_{38}}{2}+\\left(\\frac{1}{2}-\\frac{\\mathrm{I}}{2}\\right) m_{40} -\\frac{\\mathrm{I} m_{41}}{2}-\\frac{\\mathrm{I} m_{47}}{2}-\\frac{m_{6}}{2}+\\frac{m_{9}}{2}\n",
       "\\\\\n",
       "+\\frac{m_{15}}{2}+\\frac{m_{29}}{2}+\\frac{m_{35}}{2}+\\frac{m_{37}}{2}-\\frac{m_{39}}{2}-\\frac{m_{43}}{2}-\\frac{m_{44}}{2}-\\frac{m_{45}}{2}+\\frac{m_{48}}{2} \n",
       "\\\\\n",
       " c_{\\texttt{1,2}} =\n",
       "\\\\\n",
       "-\\frac{\\mathrm{I} m_{1}}{2}-\\left(\\frac{1}{2}+\\frac{\\mathrm{I}}{2}\\right) m_{4} +\\left(\\frac{1}{2}-\\frac{\\mathrm{I}}{2}\\right) m_{12} +\\frac{\\mathrm{I} m_{14}}{2}+\\frac{\\mathrm{I} m_{15}}{2}+\\frac{\\mathrm{I} m_{16}}{2}-\\frac{\\mathrm{I} m_{18}}{2}+\\left(\\frac{1}{2}+\\frac{\\mathrm{I}}{2}\\right) m_{19} \n",
       "\\\\\n",
       "+\\frac{\\mathrm{I} m_{25}}{2}-\\frac{\\mathrm{I} m_{28}}{2}-\\frac{\\mathrm{I} m_{30}}{2}+\\frac{\\mathrm{I} m_{33}}{2}-\\left(\\frac{1}{2}+\\frac{\\mathrm{I}}{2}\\right) m_{34} +\\frac{\\mathrm{I} m_{41}}{2}+\\frac{\\mathrm{I} m_{42}}{2}-\\frac{\\mathrm{I} m_{44}}{2}-\\frac{\\mathrm{I} m_{48}}{2}+\\frac{m_{3}}{2}+\\frac{m_{6}}{2}\n",
       "\\\\\n",
       "+\\frac{m_{7}}{2}-\\frac{m_{9}}{2}-\\frac{m_{13}}{2}+\\frac{m_{21}}{2}-\\frac{m_{23}}{2}-\\frac{m_{29}}{2}-\\frac{m_{35}}{2}-\\frac{m_{38}}{2}+\\frac{m_{45}}{2} \n",
       "\\\\\n",
       " c_{\\texttt{1,3}} =\n",
       "\\\\\n",
       "-\\frac{\\mathrm{I} m_{16}}{2}-\\frac{\\mathrm{I} m_{25}}{2}+\\frac{\\mathrm{I} m_{27}}{2}+\\frac{\\mathrm{I} m_{31}}{2}-\\frac{\\mathrm{I} m_{33}}{2}-\\frac{\\mathrm{I} m_{38}}{2}-\\frac{\\mathrm{I} m_{9}}{2}+\\frac{\\mathrm{I} m_{12}}{2}-\\frac{\\mathrm{I} m_{14}}{2}-\\frac{\\mathrm{I} m_{15}}{2}+\\frac{\\mathrm{I} m_{20}}{2}\n",
       "\\\\\n",
       "+\\frac{\\mathrm{I} m_{22}}{2}+\\frac{\\mathrm{I} m_{36}}{2}-\\frac{m_{3}}{2}+\\frac{m_{4}}{2}-\\frac{m_{6}}{2}+\\frac{m_{13}}{2}-\\frac{m_{17}}{2}-\\frac{m_{19}}{2}-\\frac{m_{21}}{2}-\\frac{m_{24}}{2}-\\frac{m_{26}}{2}+\\frac{m_{28}}{2}-\\frac{m_{32}}{2}+\\frac{m_{34}}{2}+\\frac{m_{35}}{2}+\\frac{m_{37}}{2}\n",
       "\\\\\n",
       "-\\frac{m_{39}}{2}-\\frac{m_{45}}{2}+\\frac{m_{48}}{2}-\\frac{\\mathrm{I} m_{40}}{2}+\\frac{\\mathrm{I} m_{44}}{2} \n",
       "\\\\\n",
       " c_{\\texttt{1,4}} =\n",
       "\\\\\n",
       "\\frac{\\mathrm{I} m_{1}}{2}-\\frac{\\mathrm{I} m_{2}}{2}+\\frac{\\mathrm{I} m_{10}}{2}+\\frac{\\mathrm{I} m_{18}}{2}+\\frac{\\mathrm{I} m_{28}}{2}-\\frac{\\mathrm{I} m_{41}}{2}-\\frac{\\mathrm{I} m_{47}}{2}-\\frac{m_{7}}{2}+\\frac{m_{8}}{2}+\\frac{m_{9}}{2}-\\frac{m_{11}}{2}-\\frac{m_{12}}{2}+\\frac{m_{15}}{2}-\\frac{m_{22}}{2}\n",
       "\\\\\n",
       "+\\frac{m_{23}}{2}+\\frac{m_{25}}{2}+\\frac{m_{29}}{2}+\\frac{m_{38}}{2}+\\frac{m_{40}}{2}-\\frac{m_{43}}{2}-\\frac{m_{44}}{2}+\\frac{\\mathrm{I} m_{4}}{2}-\\frac{\\mathrm{I} m_{5}}{2}-\\frac{\\mathrm{I} m_{17}}{2}-\\frac{\\mathrm{I} m_{19}}{2}+\\frac{\\mathrm{I} m_{30}}{2}-\\frac{\\mathrm{I} m_{32}}{2}+\n",
       "\\\\\n",
       "\\frac{\\mathrm{I} m_{34}}{2}+\\frac{\\mathrm{I} m_{35}}{2}-\\frac{\\mathrm{I} m_{42}}{2}-\\frac{\\mathrm{I} m_{46}}{2}+\\frac{\\mathrm{I} m_{48}}{2} \n",
       "\\\\\n",
       " c_{\\texttt{2,1}} =\n",
       "\\\\\n",
       "\\frac{\\mathrm{I} m_{18}}{2}-\\left(\\frac{1}{2}+\\frac{\\mathrm{I}}{2}\\right) m_{19} +\\left(\\frac{1}{2}-\\frac{\\mathrm{I}}{2}\\right) m_{12} +\\frac{\\mathrm{I} m_{16}}{2}+\\frac{\\mathrm{I} m_{41}}{2}-\\frac{\\mathrm{I} m_{48}}{2}-\\frac{\\mathrm{I} m_{9}}{2}-\\frac{\\mathrm{I} m_{15}}{2}-\\frac{m_{1}}{2}-\\frac{m_{2}}{2}-\n",
       "\\\\\n",
       "\\frac{m_{6}}{2}-\\frac{m_{25}}{2}+\\frac{m_{27}}{2}-\\frac{m_{28}}{2}+\\frac{m_{31}}{2}-\\frac{m_{33}}{2}+\\frac{m_{37}}{2}-\\frac{m_{38}}{2}-\\frac{m_{39}}{2}+\\frac{m_{43}}{2}-\\frac{m_{47}}{2}+\\frac{\\mathrm{I} m_{44}}{2}+\\frac{\\mathrm{I} m_{35}}{2}-\\frac{\\mathrm{I} m_{10}}{2}+\n",
       "\\\\\n",
       "\\left(-\\frac{1}{2}+\\frac{\\mathrm{I}}{2}\\right) m_{17} -\\frac{\\mathrm{I} m_{29}}{2}-\\left(\\frac{1}{2}+\\frac{\\mathrm{I}}{2}\\right) m_{40} -\\frac{\\mathrm{I} m_{45}}{2} \n",
       "\\\\\n",
       " c_{\\texttt{2,2}} =\n",
       "\\\\\n",
       "\\left(-\\frac{1}{2}+\\frac{\\mathrm{I}}{2}\\right) m_{12} -\\frac{\\mathrm{I} m_{16}}{2}-\\frac{\\mathrm{I} m_{38}}{2}-\\frac{\\mathrm{I} m_{41}}{2}-\\frac{\\mathrm{I} m_{18}}{2}+\\left(\\frac{1}{2}+\\frac{\\mathrm{I}}{2}\\right) m_{19} +\\frac{m_{1}}{2}-\\frac{m_{3}}{2}+\\frac{m_{6}}{2}+\\frac{m_{7}}{2}+\\frac{m_{13}}{2}\n",
       "\\\\\n",
       "-\\frac{m_{14}}{2}-\\frac{m_{15}}{2}-\\frac{m_{23}}{2}+\\frac{m_{25}}{2}+\\frac{m_{28}}{2}+\\frac{m_{30}}{2}+\\frac{m_{33}}{2}-\\frac{m_{42}}{2}+\\frac{m_{44}}{2}+\\frac{m_{48}}{2}+\\left(\\frac{1}{2}-\\frac{\\mathrm{I}}{2}\\right) m_{4} +\\frac{\\mathrm{I} m_{9}}{2}+\\frac{\\mathrm{I} m_{21}}{2}+\n",
       "\\\\\n",
       "\\frac{\\mathrm{I} m_{29}}{2}+\\left(\\frac{1}{2}-\\frac{\\mathrm{I}}{2}\\right) m_{34} -\\frac{\\mathrm{I} m_{35}}{2}+\\frac{\\mathrm{I} m_{45}}{2} \n",
       "\\\\\n",
       " c_{\\texttt{2,3}} =\n",
       "\\\\\n",
       "\\frac{\\mathrm{I} m_{28}}{2}+\\frac{\\mathrm{I} m_{16}}{2}-\\frac{\\mathrm{I} m_{48}}{2}+\\frac{\\mathrm{I} m_{20}}{2}+\\frac{m_{3}}{2}-\\frac{m_{4}}{2}-\\frac{m_{6}}{2}-\\frac{m_{9}}{2}-\\frac{m_{13}}{2}+\\frac{m_{14}}{2}+\\frac{m_{15}}{2}-\\frac{m_{17}}{2}-\\frac{m_{19}}{2}-\\frac{m_{25}}{2}+\\frac{m_{27}}{2}+\n",
       "\\\\\n",
       "\\frac{m_{31}}{2}-\\frac{m_{32}}{2}-\\frac{m_{33}}{2}-\\frac{m_{34}}{2}+\\frac{m_{37}}{2}-\\frac{m_{38}}{2}-\\frac{m_{39}}{2}-\\frac{m_{44}}{2}-\\frac{\\mathrm{I} m_{40}}{2}+\\frac{\\mathrm{I} m_{35}}{2}-\\frac{\\mathrm{I} m_{45}}{2}-\\frac{\\mathrm{I} m_{12}}{2}-\\frac{\\mathrm{I} m_{21}}{2}-\\frac{\\mathrm{I} m_{22}}{2}+\n",
       "\\\\\n",
       "\\frac{\\mathrm{I} m_{24}}{2}-\\frac{\\mathrm{I} m_{26}}{2}-\\frac{\\mathrm{I} m_{36}}{2} \n",
       "\\\\\n",
       " c_{\\texttt{2,4}} =\n",
       "\\\\\n",
       "\\frac{\\mathrm{I} m_{18}}{2}-\\frac{\\mathrm{I} m_{25}}{2}+\\frac{\\mathrm{I} m_{41}}{2}-\\frac{\\mathrm{I} m_{9}}{2}-\\frac{\\mathrm{I} m_{15}}{2}-\\frac{m_{1}}{2}-\\frac{m_{2}}{2}-\\frac{m_{5}}{2}-\\frac{m_{7}}{2}-\\frac{m_{8}}{2}-\\frac{m_{11}}{2}+\\frac{m_{12}}{2}+\\frac{m_{22}}{2}+\\frac{m_{23}}{2}-\\frac{m_{28}}{2}\n",
       "\\\\\n",
       "-\\frac{m_{30}}{2}-\\frac{m_{35}}{2}-\\frac{m_{40}}{2}+\\frac{m_{42}}{2}+\\frac{m_{43}}{2}+\\frac{m_{46}}{2}-\\frac{m_{47}}{2}-\\frac{m_{48}}{2}+\\frac{\\mathrm{I} m_{44}}{2}+\\frac{\\mathrm{I} m_{4}}{2}-\\frac{\\mathrm{I} m_{19}}{2}-\\frac{\\mathrm{I} m_{32}}{2}+\\frac{\\mathrm{I} m_{34}}{2}-\\frac{\\mathrm{I} m_{10}}{2}\n",
       "\\\\\n",
       "-\\frac{\\mathrm{I} m_{29}}{2}+\\frac{\\mathrm{I} m_{17}}{2}+\\frac{\\mathrm{I} m_{38}}{2} \n",
       "\\\\\n",
       " c_{\\texttt{3,1}} =\n",
       "\\\\\n",
       "-\\left(\\frac{1}{2}+\\frac{\\mathrm{I}}{2}\\right) m_{17} +\\frac{\\mathrm{I} m_{27}}{2}-\\frac{\\mathrm{I} m_{33}}{2}-\\frac{\\mathrm{I} m_{47}}{2}-\\frac{\\mathrm{I} m_{1}}{2}+\\frac{\\mathrm{I} m_{15}}{2}-\\frac{\\mathrm{I} m_{9}}{2}+\\frac{m_{10}}{2}-\\frac{m_{16}}{2}+\\frac{m_{18}}{2}-\\frac{m_{25}}{2}+\\frac{m_{28}}{2}\n",
       "\\\\\n",
       "-\\frac{m_{29}}{2}-\\frac{m_{38}}{2}-\\frac{m_{41}}{2}-\\frac{m_{45}}{2}+\\frac{\\mathrm{I} m_{44}}{2}+\\frac{\\mathrm{I} m_{48}}{2}-\\frac{\\mathrm{I} m_{35}}{2}+\\frac{\\mathrm{I} m_{2}}{2}+\\frac{\\mathrm{I} m_{6}}{2}+\\left(\\frac{1}{2}+\\frac{\\mathrm{I}}{2}\\right) m_{12} +\n",
       "\\\\\n",
       "\\left(-\\frac{1}{2}+\\frac{\\mathrm{I}}{2}\\right) m_{19} -\\frac{\\mathrm{I} m_{31}}{2}-\\frac{\\mathrm{I} m_{37}}{2}-\\frac{\\mathrm{I} m_{39}}{2}+\\left(-\\frac{1}{2}+\\frac{\\mathrm{I}}{2}\\right) m_{40} -\\frac{\\mathrm{I} m_{43}}{2} \n",
       "\\\\\n",
       " c_{\\texttt{3,2}} =\n",
       "\\\\\n",
       "\\frac{\\mathrm{I} m_{1}}{2}-\\left(\\frac{1}{2}+\\frac{\\mathrm{I}}{2}\\right) m_{4} +\\frac{\\mathrm{I} m_{14}}{2}-\\frac{\\mathrm{I} m_{30}}{2}+\\frac{\\mathrm{I} m_{33}}{2}-\\frac{m_{15}}{2}+\\frac{m_{16}}{2}-\\frac{m_{18}}{2}-\\frac{m_{21}}{2}+\\frac{m_{25}}{2}-\\frac{m_{28}}{2}+\\frac{m_{29}}{2}+\\frac{m_{41}}{2}-\n",
       "\\\\\n",
       "\\frac{m_{44}}{2}+\\frac{m_{45}}{2}+\\frac{m_{48}}{2}+\\frac{\\mathrm{I} m_{35}}{2}-\\frac{\\mathrm{I} m_{42}}{2}+\\frac{\\mathrm{I} m_{9}}{2}+\\frac{\\mathrm{I} m_{38}}{2}+\\frac{\\mathrm{I} m_{3}}{2}-\\frac{\\mathrm{I} m_{6}}{2}+\\frac{\\mathrm{I} m_{7}}{2}-\\left(\\frac{1}{2}+\\frac{\\mathrm{I}}{2}\\right) m_{12} +\n",
       "\\\\\n",
       "\\frac{\\mathrm{I} m_{13}}{2}+\\left(\\frac{1}{2}-\\frac{\\mathrm{I}}{2}\\right) m_{19} +\\frac{\\mathrm{I} m_{23}}{2}+\\left(\\frac{1}{2}+\\frac{\\mathrm{I}}{2}\\right) m_{34}  \n",
       "\\\\\n",
       " \\text{``16 element Vector[column]''} \n",
       "\\end{array}\\right]$$"
      ]
     },
     "execution_count": 12,
     "metadata": {},
     "output_type": "execute_result"
    }
   ],
   "source": [
    "    ADD := [seq(seq(\n",
    "        cat(`c__`,i,`,`,j)=\n",
    "            add(\n",
    "                ifelse(tmp[k][i,j]=0, 0,\n",
    "                    select(type,tmp[k][i,j],constant) * cat(`m__`,k)),\n",
    "            k=1..rank),\n",
    "            j=1..dims[3]),i=1..dims[1])]:\n",
    "    Vector(ADD);"
   ]
  },
  {
   "cell_type": "markdown",
   "metadata": {},
   "source": [
    "Check that the formulas MUL and ADD correctly compute the symbolic matric multiplication:"
   ]
  },
  {
   "cell_type": "code",
   "execution_count": 13,
   "metadata": {},
   "outputs": [
    {
     "data": {
      "text/markdown": [
       "$$\\mathit{check} \\left(4, 4, 4\\right) = \\left[\\begin{array}{cccc}\n",
       "0 & 0 & 0 & 0 \n",
       "\\\\\n",
       " 0 & 0 & 0 & 0 \n",
       "\\\\\n",
       " 0 & 0 & 0 & 0 \n",
       "\\\\\n",
       " 0 & 0 & 0 & 0 \n",
       "\\end{array}\\right]$$"
      ]
     },
     "execution_count": 13,
     "metadata": {},
     "output_type": "execute_result"
    }
   ],
   "source": [
    "check(4,4,4)=map(expand,subs(subs(MUL,ADD),C-A.B));"
   ]
  },
  {
   "cell_type": "markdown",
   "metadata": {},
   "source": [
    "Verify the Operation counts using the codegen[cost] function.\n",
    "(the subindents calls make sure we don't count the \"free\" operations of multiplication by the complex coefficients of the tensor)"
   ]
  },
  {
   "cell_type": "code",
   "execution_count": 14,
   "metadata": {},
   "outputs": [
    {
     "data": {
      "text/markdown": [
       "$$48 \\mathit{multiplications} +1264 \\mathit{additions}$$"
      ]
     },
     "execution_count": 14,
     "metadata": {},
     "output_type": "execute_result"
    }
   ],
   "source": [
    "codegen[cost](map(rhs, subsindets(MUL,complex,()->1))) +\n",
    "codegen[cost](map(rhs, subsindets(ADD,complex,()->1)));"
   ]
  },
  {
   "cell_type": "code",
   "execution_count": null,
   "metadata": {},
   "outputs": [],
   "source": []
  }
 ],
 "metadata": {
  "kernelspec": {
   "display_name": "Maple 2025",
   "language": "maple",
   "name": "maple"
  },
  "language_info": {
   "file_extension": ".mpl",
   "mimetype": "application/vnd.maple.mpl",
   "name": "maple",
   "version": "2024"
  }
 },
 "nbformat": 4,
 "nbformat_minor": 4
}
